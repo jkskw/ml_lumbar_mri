{
 "cells": [
  {
   "cell_type": "markdown",
   "metadata": {},
   "source": [
    "# 01_data_ingestion_and_preprocessing.ipynb\n",
    "\n",
    "**Project**: Lumbar Spine Degenerative Classification  \n",
    "**Description**: This notebook orchestrates the data ingestion (download from Kaggle) and preprocessing (generating tensor data) steps.  \n",
    "\n",
    "---\n",
    "\n",
    "## Table of Contents\n",
    "1. [Environment and Imports](#section1)  \n",
    "2. [Configuration Loading](#section2)  \n",
    "3. [Data Download](#section3)  \n",
    "4. [Data Preprocessing](#section4)  \n",
    "5. [Extended Preprocessing](#section5)\n",
    "\n",
    "---"
   ]
  },
  {
   "cell_type": "markdown",
   "metadata": {},
   "source": [
    "\n",
    "<a id=\"section1\"></a>\n",
    "## 1. Environment and Imports"
   ]
  },
  {
   "cell_type": "code",
   "execution_count": 1,
   "metadata": {},
   "outputs": [
    {
     "name": "stdout",
     "output_type": "stream",
     "text": [
      "Environment diagnostics:\n",
      "  Working directory : /home/jkskw/git/ml_lumbar_mri\n",
      "  Python executable : /home/jkskw/git/ml_lumbar_mri/venv/bin/python\n"
     ]
    }
   ],
   "source": [
    "import os\n",
    "import sys\n",
    "import glob\n",
    "import torch\n",
    "\n",
    "# Change working directory to project root\n",
    "if os.path.basename(os.getcwd()) == \"notebooks\":\n",
    "    os.chdir(\"..\")\n",
    "\n",
    "# Path adjustments for custom modules (if not already on sys.path).\n",
    "module_path = os.path.abspath(os.path.join(\"src\"))\n",
    "if module_path not in sys.path:\n",
    "    sys.path.append(module_path)\n",
    "\n",
    "from src.data.ingest_data import load_config, authenticate_kaggle, download_and_extract\n",
    "from src.data.preprocess import DataPreprocessor\n",
    "\n",
    "print(\"Environment diagnostics:\")\n",
    "print(f\"  Working directory : {os.getcwd()}\")\n",
    "print(f\"  Python executable : {sys.executable}\")"
   ]
  },
  {
   "cell_type": "markdown",
   "metadata": {},
   "source": [
    "<a id=\"section2\"></a>\n",
    "## 2. Configuration Loading"
   ]
  },
  {
   "cell_type": "code",
   "execution_count": 2,
   "metadata": {},
   "outputs": [
    {
     "name": "stdout",
     "output_type": "stream",
     "text": [
      "Configuration loaded successfully.\n",
      "Project: Lumbar Spine Degenerative Classification\n",
      "Description: Automated evaluation of degenerative lumbar spine changes from MRI images using deep learning.\n",
      "Random Seed: 42\n"
     ]
    }
   ],
   "source": [
    "CONFIG_PATH = \"config.yml\"\n",
    "\n",
    "config = load_config(CONFIG_PATH)\n",
    "print(\"Configuration loaded successfully.\")\n",
    "print(\"Project:\", config[\"project\"][\"name\"])\n",
    "print(\"Description:\", config[\"project\"][\"description\"])\n",
    "print(\"Random Seed:\", config[\"project\"][\"seed\"])"
   ]
  },
  {
   "cell_type": "markdown",
   "metadata": {},
   "source": [
    "<a id=\"section3\"></a>\n",
    "## 3. Data Download\n",
    "\n",
    "Authenticates with Kaggle using credentials and downloads the competition files, extracting them into the designated `raw` data folder."
   ]
  },
  {
   "cell_type": "code",
   "execution_count": 3,
   "metadata": {},
   "outputs": [
    {
     "name": "stdout",
     "output_type": "stream",
     "text": [
      "Data already exists at './data/raw', skipping download.\n"
     ]
    }
   ],
   "source": [
    "COMPETITION   = config[\"kaggle\"][\"competition\"]\n",
    "DOWNLOAD_PATH = config[\"kaggle\"][\"download_path\"]\n",
    "RAW_PATH      = config[\"data\"][\"raw_path\"]\n",
    "\n",
    "if os.path.exists(RAW_PATH):\n",
    "    print(f\"Data already exists at '{RAW_PATH}', skipping download.\")\n",
    "else:\n",
    "    authenticate_kaggle()\n",
    "    download_and_extract(\n",
    "        competition=COMPETITION,\n",
    "        download_dir=DOWNLOAD_PATH,\n",
    "        extract_dir=RAW_PATH\n",
    "    )\n",
    "    print(\"Kaggle data downloaded and extracted.\")"
   ]
  },
  {
   "cell_type": "markdown",
   "metadata": {},
   "source": [
    "<a id=\"section4\"></a>\n",
    "## 4. Data Preprocessing\n",
    "\n",
    "Leverages the `DataPreprocessor` class defined in `preprocess.py` to build merged CSV files and generate tensor volumes for modeling. Output is saved in a configuration-defined location."
   ]
  },
  {
   "cell_type": "code",
   "execution_count": null,
   "metadata": {},
   "outputs": [],
   "source": [
    "preprocessor = DataPreprocessor(CONFIG_PATH)\n",
    "preprocessor.process()"
   ]
  },
  {
   "cell_type": "markdown",
   "metadata": {},
   "source": [
    "<a id=\"section5\"></a>\n",
    "## 5. Extended Preprocessing\n"
   ]
  }
 ],
 "metadata": {
  "kernelspec": {
   "display_name": "venv",
   "language": "python",
   "name": "python3"
  },
  "language_info": {
   "codemirror_mode": {
    "name": "ipython",
    "version": 3
   },
   "file_extension": ".py",
   "mimetype": "text/x-python",
   "name": "python",
   "nbconvert_exporter": "python",
   "pygments_lexer": "ipython3",
   "version": "3.12.3"
  }
 },
 "nbformat": 4,
 "nbformat_minor": 2
}
