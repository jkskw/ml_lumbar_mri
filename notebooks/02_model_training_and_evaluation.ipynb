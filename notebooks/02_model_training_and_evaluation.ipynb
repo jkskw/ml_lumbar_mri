{
 "cells": [
  {
   "cell_type": "markdown",
   "metadata": {},
   "source": [
    "# 02_model_training_and_evaluation.ipynb\n",
    "\n",
    "**Project**: Lumbar Spine Degenerative Classification  \n",
    "**Description**: This notebook orchestrates the training and evaluation of the deep learning models described in the project.  \n",
    "\n",
    "---\n",
    "\n",
    "## Table of Contents\n",
    "1. [Environment and Imports](#section1)  \n",
    "2. [Configuration Loading](#section2)  \n",
    "3. [Model Training](#section3)  \n",
    "4. [Evaluation](#section4)\n",
    "\n",
    "---"
   ]
  },
  {
   "cell_type": "markdown",
   "metadata": {},
   "source": [
    "<a id=\"section1\"></a>\n",
    "## 1. Environment and Imports\n",
    "\n",
    "Ensures the correct Python environment, updates paths if necessary, and imports relevant modules."
   ]
  },
  {
   "cell_type": "code",
   "execution_count": 1,
   "metadata": {},
   "outputs": [
    {
     "name": "stdout",
     "output_type": "stream",
     "text": [
      "Environment diagnostics:\n",
      "  Working directory : /home/jkskw/git/ml_lumbar_mri\n",
      "  Python executable : /home/jkskw/git/ml_lumbar_mri/venv/bin/python\n"
     ]
    }
   ],
   "source": [
    "import os\n",
    "import sys\n",
    "import torch\n",
    "import glob\n",
    "\n",
    "if os.path.basename(os.getcwd()) == \"notebooks\":\n",
    "    os.chdir(\"..\")\n",
    "\n",
    "module_path = os.path.abspath(os.path.join(\"src\"))\n",
    "if module_path not in sys.path:\n",
    "    sys.path.append(module_path)\n",
    "\n",
    "from src.model.train_model import train_model\n",
    "from src.evaluate.evaluate_model import evaluate_model\n",
    "from src.data.ingest_data import load_config\n",
    "\n",
    "print(\"Environment diagnostics:\")\n",
    "print(f\"  Working directory : {os.getcwd()}\")\n",
    "print(f\"  Python executable : {sys.executable}\")"
   ]
  },
  {
   "cell_type": "markdown",
   "metadata": {},
   "source": [
    "<a id=\"section2\"></a>\n",
    "## 2. Configuration Loading\n",
    "\n",
    "Retrieves training-related settings (e.g. classification mode, model architecture, etc.) from `config.yml`."
   ]
  },
  {
   "cell_type": "code",
   "execution_count": 2,
   "metadata": {},
   "outputs": [
    {
     "name": "stdout",
     "output_type": "stream",
     "text": [
      "Configuration loaded successfully.\n",
      "Project: Lumbar Spine Degenerative Classification\n",
      "Description: Automated evaluation of degenerative lumbar spine changes from MRI images using deep learning.\n",
      "Classification Mode: multi_binary\n",
      "Selected Folder: target_window_128x128_5D_B2A2\n"
     ]
    }
   ],
   "source": [
    "CONFIG_PATH = \"config.yml\"\n",
    "config = load_config(CONFIG_PATH)\n",
    "\n",
    "print(\"Configuration loaded successfully.\")\n",
    "print(\"Project:\", config[\"project\"][\"name\"])\n",
    "print(\"Description:\", config[\"project\"][\"description\"])\n",
    "print(\"Classification Mode:\", config[\"training\"][\"classification_mode\"])\n",
    "print(\"Selected Folder:\", config[\"training\"][\"selected_tensor_folder\"])"
   ]
  },
  {
   "cell_type": "markdown",
   "metadata": {},
   "source": [
    "<a id=\"section3\"></a>\n",
    "## 3. Model Training\n",
    "\n",
    "Calls the `train_model` function from `train_model.py`.  \n",
    "This will:\n",
    "- Load data from CSV\n",
    "- Split into train/val/test sets\n",
    "- Create datasets and dataloaders\n",
    "- Build the selected neural network architecture\n",
    "- Train with early stopping\n",
    "- Save logs and best model in `./models/...`"
   ]
  },
  {
   "cell_type": "code",
   "execution_count": 3,
   "metadata": {},
   "outputs": [
    {
     "name": "stderr",
     "output_type": "stream",
     "text": [
      "[2025-03-13 10:25:07 INFO] src.model.train_model: [INIT] Starting train_model...\n",
      "[2025-03-13 10:25:07 INFO] src.model.train_model: Training Configuration:\n",
      "[2025-03-13 10:25:07 INFO] src.model.train_model: classification_mode: multi_binary\n",
      "[2025-03-13 10:25:07 INFO] src.model.train_model: disease: lnfn\n",
      "[2025-03-13 10:25:07 INFO] src.model.train_model: selected_tensor_folder: target_window_128x128_5D_B2A2\n",
      "[2025-03-13 10:25:07 INFO] src.model.train_model: model_arch: resnet3d_18\n",
      "[2025-03-13 10:25:07 INFO] src.model.train_model: pretrained_ckpt_path: None\n",
      "[2025-03-13 10:25:07 INFO] src.model.train_model: test_size: 0.2\n",
      "[2025-03-13 10:25:07 INFO] src.model.train_model: validation_split_of_temp: 0.5\n",
      "[2025-03-13 10:25:07 INFO] src.model.train_model: batch_size: 16\n",
      "[2025-03-13 10:25:07 INFO] src.model.train_model: num_epochs: 10\n",
      "[2025-03-13 10:25:07 INFO] src.model.train_model: learning_rate: 0.001\n",
      "[2025-03-13 10:25:07 INFO] src.model.train_model: use_lr_scheduler: False\n",
      "[2025-03-13 10:25:07 INFO] src.model.train_model: lr_scheduler_patience: 5\n",
      "[2025-03-13 10:25:07 INFO] src.model.train_model: lr_scheduler_factor: 0.1\n",
      "[2025-03-13 10:25:07 INFO] src.model.train_model: dropout_prob: 0.5\n",
      "[2025-03-13 10:25:07 INFO] src.model.train_model: early_stopping_patience: 200\n",
      "[2025-03-13 10:25:07 INFO] src.model.train_model: excluded_studies: [2780132468, 2492114990, 3294654272, 665627263]\n",
      "[2025-03-13 10:25:07 INFO] src.model.train_model: imbalance: {'use_class_weights': True, 'use_weighted_sampler': False, 'loss_type': 'cross_entropy', 'focal': {'alpha': [0.3, 0.8, 1.0], 'gamma': 3.0}}\n",
      "[2025-03-13 10:25:07 INFO] src.model.train_model: Log Directory: ./models/resnet3d_18_multi_binary_target_window_128x128_5D_B2A2_16_10_0.001_0.5_20250313_102507\n",
      "[2025-03-13 10:25:07 INFO] src.model.train_model: [INFO] Excluding 4 studies: [2780132468, 2492114990, 3294654272, 665627263]\n",
      "[2025-03-13 10:25:07 INFO] src.model.train_model: [INFO] Data size from 1974 -> 1970 after exclusion\n",
      "[2025-03-13 10:25:07 INFO] src.model.train_model: Computed class weights: tensor([  2.4858,   8.8757, 130.9167,   8.9261,  13.3136,  78.5500, 112.2143,\n",
      "         74.8095, 196.3750,  32.0612,  56.1071, 314.2000,  54.1724,  34.9111,\n",
      "        120.8462, 261.8333, 142.8182, 392.7500,  56.1071,  62.8400, 392.7500,\n",
      "         58.1852,  29.0926,  92.4118, 314.2000,  74.8095,  71.4091])\n",
      "[2025-03-13 10:25:11 INFO] src.model.train_model: Total training samples skipped due to incorrect dimensions: 42 out of 1571\n"
     ]
    },
    {
     "name": "stdout",
     "output_type": "stream",
     "text": [
      "Total training samples skipped: 42 / 1571\n"
     ]
    },
    {
     "name": "stderr",
     "output_type": "stream",
     "text": [
      "[2025-03-13 10:25:12 INFO] src.model.train_model: Initial learning rate: 0.001000\n",
      "[2025-03-13 10:25:12 INFO] src.model.train_model: == Training with classification_mode=multi_binary, model_arch=resnet3d_18 ==\n",
      "[2025-03-13 10:25:12 INFO] src.model.train_model: Train size=1571, Val size=196, Test size=197\n",
      "[2025-03-13 10:25:12 INFO] src.model.train_model: Device = cuda, LR=0.001000, BatchSize=16, Epochs=10, Dropout=0.5\n"
     ]
    },
    {
     "data": {
      "application/vnd.jupyter.widget-view+json": {
       "model_id": "8e603e45b8e54d24af111e2f2c7ddc6b",
       "version_major": 2,
       "version_minor": 0
      },
      "text/plain": [
       "Epoch 1/10 [Train]:   0%|          | 0/99 [00:00<?, ?it/s]"
      ]
     },
     "metadata": {},
     "output_type": "display_data"
    },
    {
     "data": {
      "application/vnd.jupyter.widget-view+json": {
       "model_id": "4bb2a94a66f84465a904231ff918efa9",
       "version_major": 2,
       "version_minor": 0
      },
      "text/plain": [
       "Epoch 1/10 [Val]:   0%|          | 0/13 [00:00<?, ?it/s]"
      ]
     },
     "metadata": {},
     "output_type": "display_data"
    },
    {
     "name": "stderr",
     "output_type": "stream",
     "text": [
      "[2025-03-13 10:25:33 INFO] src.model.train_model: [Epoch 1/10] Train Loss=1.8039 | Val Loss=1.6864 | Train Acc=0.6708 | Val Acc=0.7016\n",
      "[2025-03-13 10:25:33 INFO] src.model.train_model: >> New best model saved at ./models/resnet3d_18_multi_binary_target_window_128x128_5D_B2A2_16_10_0.001_0.5_20250313_102507/best_model.pth\n",
      "[2025-03-13 10:25:33 INFO] src.model.train_model: >> New best model saved at ./models/resnet3d_18_multi_binary_target_window_128x128_5D_B2A2_16_10_0.001_0.5_20250313_102507/best_val_loss_model.pth\n"
     ]
    },
    {
     "data": {
      "application/vnd.jupyter.widget-view+json": {
       "model_id": "d9da2bb7fffd4c01b8543116a4ca0b0c",
       "version_major": 2,
       "version_minor": 0
      },
      "text/plain": [
       "Epoch 2/10 [Train]:   0%|          | 0/99 [00:00<?, ?it/s]"
      ]
     },
     "metadata": {},
     "output_type": "display_data"
    },
    {
     "data": {
      "application/vnd.jupyter.widget-view+json": {
       "model_id": "ecdda23722e04eeb89fe46b149e01bd8",
       "version_major": 2,
       "version_minor": 0
      },
      "text/plain": [
       "Epoch 2/10 [Val]:   0%|          | 0/13 [00:00<?, ?it/s]"
      ]
     },
     "metadata": {},
     "output_type": "display_data"
    },
    {
     "name": "stderr",
     "output_type": "stream",
     "text": [
      "[2025-03-13 10:25:53 INFO] src.model.train_model: [Epoch 2/10] Train Loss=1.5653 | Val Loss=1.3852 | Train Acc=0.7301 | Val Acc=0.7871\n",
      "[2025-03-13 10:25:53 INFO] src.model.train_model: >> New best model saved at ./models/resnet3d_18_multi_binary_target_window_128x128_5D_B2A2_16_10_0.001_0.5_20250313_102507/best_model.pth\n",
      "[2025-03-13 10:25:54 INFO] src.model.train_model: >> New best model saved at ./models/resnet3d_18_multi_binary_target_window_128x128_5D_B2A2_16_10_0.001_0.5_20250313_102507/best_val_loss_model.pth\n"
     ]
    },
    {
     "data": {
      "application/vnd.jupyter.widget-view+json": {
       "model_id": "3abc743144984c949017f4a51146a60f",
       "version_major": 2,
       "version_minor": 0
      },
      "text/plain": [
       "Epoch 3/10 [Train]:   0%|          | 0/99 [00:00<?, ?it/s]"
      ]
     },
     "metadata": {},
     "output_type": "display_data"
    },
    {
     "data": {
      "application/vnd.jupyter.widget-view+json": {
       "model_id": "26df3496bfb5484b805f7a2f53c1f0eb",
       "version_major": 2,
       "version_minor": 0
      },
      "text/plain": [
       "Epoch 3/10 [Val]:   0%|          | 0/13 [00:00<?, ?it/s]"
      ]
     },
     "metadata": {},
     "output_type": "display_data"
    },
    {
     "name": "stderr",
     "output_type": "stream",
     "text": [
      "[2025-03-13 10:26:14 INFO] src.model.train_model: [Epoch 3/10] Train Loss=1.4830 | Val Loss=1.3911 | Train Acc=0.7506 | Val Acc=0.7731\n"
     ]
    },
    {
     "data": {
      "application/vnd.jupyter.widget-view+json": {
       "model_id": "44a9257075b04f12a472f40e3508cd14",
       "version_major": 2,
       "version_minor": 0
      },
      "text/plain": [
       "Epoch 4/10 [Train]:   0%|          | 0/99 [00:00<?, ?it/s]"
      ]
     },
     "metadata": {},
     "output_type": "display_data"
    },
    {
     "data": {
      "application/vnd.jupyter.widget-view+json": {
       "model_id": "f2e2464654784b608723f834c631e75d",
       "version_major": 2,
       "version_minor": 0
      },
      "text/plain": [
       "Epoch 4/10 [Val]:   0%|          | 0/13 [00:00<?, ?it/s]"
      ]
     },
     "metadata": {},
     "output_type": "display_data"
    },
    {
     "name": "stderr",
     "output_type": "stream",
     "text": [
      "[2025-03-13 10:26:33 INFO] src.model.train_model: [Epoch 4/10] Train Loss=1.4201 | Val Loss=1.3841 | Train Acc=0.7687 | Val Acc=0.7906\n",
      "[2025-03-13 10:26:34 INFO] src.model.train_model: >> New best model saved at ./models/resnet3d_18_multi_binary_target_window_128x128_5D_B2A2_16_10_0.001_0.5_20250313_102507/best_model.pth\n",
      "[2025-03-13 10:26:34 INFO] src.model.train_model: >> New best model saved at ./models/resnet3d_18_multi_binary_target_window_128x128_5D_B2A2_16_10_0.001_0.5_20250313_102507/best_val_loss_model.pth\n"
     ]
    },
    {
     "data": {
      "application/vnd.jupyter.widget-view+json": {
       "model_id": "2f292534979c47b0b2035a6f83de0d65",
       "version_major": 2,
       "version_minor": 0
      },
      "text/plain": [
       "Epoch 5/10 [Train]:   0%|          | 0/99 [00:00<?, ?it/s]"
      ]
     },
     "metadata": {},
     "output_type": "display_data"
    },
    {
     "data": {
      "application/vnd.jupyter.widget-view+json": {
       "model_id": "07f3eb9cc4004f0a8a2befcfa32e5abb",
       "version_major": 2,
       "version_minor": 0
      },
      "text/plain": [
       "Epoch 5/10 [Val]:   0%|          | 0/13 [00:00<?, ?it/s]"
      ]
     },
     "metadata": {},
     "output_type": "display_data"
    },
    {
     "name": "stderr",
     "output_type": "stream",
     "text": [
      "[2025-03-13 10:26:55 INFO] src.model.train_model: [Epoch 5/10] Train Loss=1.3688 | Val Loss=1.2471 | Train Acc=0.7842 | Val Acc=0.8063\n",
      "[2025-03-13 10:26:55 INFO] src.model.train_model: >> New best model saved at ./models/resnet3d_18_multi_binary_target_window_128x128_5D_B2A2_16_10_0.001_0.5_20250313_102507/best_model.pth\n",
      "[2025-03-13 10:26:56 INFO] src.model.train_model: >> New best model saved at ./models/resnet3d_18_multi_binary_target_window_128x128_5D_B2A2_16_10_0.001_0.5_20250313_102507/best_val_loss_model.pth\n"
     ]
    },
    {
     "data": {
      "application/vnd.jupyter.widget-view+json": {
       "model_id": "827afacfcbfe447c8410afdffe7d0ab2",
       "version_major": 2,
       "version_minor": 0
      },
      "text/plain": [
       "Epoch 6/10 [Train]:   0%|          | 0/99 [00:00<?, ?it/s]"
      ]
     },
     "metadata": {},
     "output_type": "display_data"
    },
    {
     "data": {
      "application/vnd.jupyter.widget-view+json": {
       "model_id": "00d03b16bcfb4914a044c51efc8ee078",
       "version_major": 2,
       "version_minor": 0
      },
      "text/plain": [
       "Epoch 6/10 [Val]:   0%|          | 0/13 [00:00<?, ?it/s]"
      ]
     },
     "metadata": {},
     "output_type": "display_data"
    },
    {
     "name": "stderr",
     "output_type": "stream",
     "text": [
      "[2025-03-13 10:27:18 INFO] src.model.train_model: [Epoch 6/10] Train Loss=1.3167 | Val Loss=1.3032 | Train Acc=0.7949 | Val Acc=0.8010\n"
     ]
    },
    {
     "data": {
      "application/vnd.jupyter.widget-view+json": {
       "model_id": "ec843a8a6fd8412a947d2816bc19b3f0",
       "version_major": 2,
       "version_minor": 0
      },
      "text/plain": [
       "Epoch 7/10 [Train]:   0%|          | 0/99 [00:00<?, ?it/s]"
      ]
     },
     "metadata": {},
     "output_type": "display_data"
    },
    {
     "data": {
      "application/vnd.jupyter.widget-view+json": {
       "model_id": "86fed56421c246d08ad26944c390c601",
       "version_major": 2,
       "version_minor": 0
      },
      "text/plain": [
       "Epoch 7/10 [Val]:   0%|          | 0/13 [00:00<?, ?it/s]"
      ]
     },
     "metadata": {},
     "output_type": "display_data"
    },
    {
     "name": "stderr",
     "output_type": "stream",
     "text": [
      "[2025-03-13 10:27:39 INFO] src.model.train_model: [Epoch 7/10] Train Loss=1.2746 | Val Loss=1.2210 | Train Acc=0.8014 | Val Acc=0.8063\n",
      "[2025-03-13 10:27:40 INFO] src.model.train_model: >> New best model saved at ./models/resnet3d_18_multi_binary_target_window_128x128_5D_B2A2_16_10_0.001_0.5_20250313_102507/best_val_loss_model.pth\n"
     ]
    },
    {
     "data": {
      "application/vnd.jupyter.widget-view+json": {
       "model_id": "01a74a163121438d98f85f87d84f8d42",
       "version_major": 2,
       "version_minor": 0
      },
      "text/plain": [
       "Epoch 8/10 [Train]:   0%|          | 0/99 [00:00<?, ?it/s]"
      ]
     },
     "metadata": {},
     "output_type": "display_data"
    },
    {
     "data": {
      "application/vnd.jupyter.widget-view+json": {
       "model_id": "0c80937624134689a59d43b6780f56f9",
       "version_major": 2,
       "version_minor": 0
      },
      "text/plain": [
       "Epoch 8/10 [Val]:   0%|          | 0/13 [00:00<?, ?it/s]"
      ]
     },
     "metadata": {},
     "output_type": "display_data"
    },
    {
     "name": "stderr",
     "output_type": "stream",
     "text": [
      "[2025-03-13 10:28:02 INFO] src.model.train_model: [Epoch 8/10] Train Loss=1.2321 | Val Loss=1.2902 | Train Acc=0.8005 | Val Acc=0.8168\n",
      "[2025-03-13 10:28:02 INFO] src.model.train_model: >> New best model saved at ./models/resnet3d_18_multi_binary_target_window_128x128_5D_B2A2_16_10_0.001_0.5_20250313_102507/best_model.pth\n"
     ]
    },
    {
     "data": {
      "application/vnd.jupyter.widget-view+json": {
       "model_id": "7db815e3fbeb443e9d2148740239bfab",
       "version_major": 2,
       "version_minor": 0
      },
      "text/plain": [
       "Epoch 9/10 [Train]:   0%|          | 0/99 [00:00<?, ?it/s]"
      ]
     },
     "metadata": {},
     "output_type": "display_data"
    },
    {
     "data": {
      "application/vnd.jupyter.widget-view+json": {
       "model_id": "29ddf4e4096e46f8ab03a89d71c795c4",
       "version_major": 2,
       "version_minor": 0
      },
      "text/plain": [
       "Epoch 9/10 [Val]:   0%|          | 0/13 [00:00<?, ?it/s]"
      ]
     },
     "metadata": {},
     "output_type": "display_data"
    },
    {
     "name": "stderr",
     "output_type": "stream",
     "text": [
      "[2025-03-13 10:28:31 INFO] src.model.train_model: [Epoch 9/10] Train Loss=1.1645 | Val Loss=1.5056 | Train Acc=0.8225 | Val Acc=0.7382\n"
     ]
    },
    {
     "data": {
      "application/vnd.jupyter.widget-view+json": {
       "model_id": "75728a458c6544ff97d69adaa468b89c",
       "version_major": 2,
       "version_minor": 0
      },
      "text/plain": [
       "Epoch 10/10 [Train]:   0%|          | 0/99 [00:00<?, ?it/s]"
      ]
     },
     "metadata": {},
     "output_type": "display_data"
    },
    {
     "data": {
      "application/vnd.jupyter.widget-view+json": {
       "model_id": "7ee8ba42db5e43d09125edf67113919b",
       "version_major": 2,
       "version_minor": 0
      },
      "text/plain": [
       "Epoch 10/10 [Val]:   0%|          | 0/13 [00:00<?, ?it/s]"
      ]
     },
     "metadata": {},
     "output_type": "display_data"
    },
    {
     "name": "stderr",
     "output_type": "stream",
     "text": [
      "[2025-03-13 10:28:57 INFO] src.model.train_model: [Epoch 10/10] Train Loss=1.2009 | Val Loss=1.4499 | Train Acc=0.8140 | Val Acc=0.7661\n",
      "[2025-03-13 10:28:57 INFO] src.model.train_model: [INFO] Training complete. Logs & model in ./models/resnet3d_18_multi_binary_target_window_128x128_5D_B2A2_16_10_0.001_0.5_20250313_102507\n"
     ]
    }
   ],
   "source": [
    "train_model(CONFIG_PATH)"
   ]
  },
  {
   "cell_type": "markdown",
   "metadata": {},
   "source": [
    "<a id=\"section4\"></a>\n",
    "## 4. Evaluation\n",
    "\n",
    "The `evaluate_model` function from `evaluate_model.py` allows evaluating on a specified split.\n",
    "By default, it re-splits or tries to load the test set. Then it prints metrics (accuracy, confusion matrix, etc.)"
   ]
  },
  {
   "cell_type": "code",
   "execution_count": 4,
   "metadata": {},
   "outputs": [
    {
     "name": "stdout",
     "output_type": "stream",
     "text": [
      "Latest model folder: models/resnet3d_18_multi_binary_target_window_128x128_5D_B2A2_16_10_0.001_0.5_20250313_102507\n",
      "Model path: models/resnet3d_18_multi_binary_target_window_128x128_5D_B2A2_16_10_0.001_0.5_20250313_102507/best_model.pth\n",
      "[INFO] Loading model from models/resnet3d_18_multi_binary_target_window_128x128_5D_B2A2_16_10_0.001_0.5_20250313_102507/best_model.pth using arch=resnet3d_18\n"
     ]
    },
    {
     "data": {
      "application/vnd.jupyter.widget-view+json": {
       "model_id": "d4879cbd19ab4bafb6c8bf3cb0a87255",
       "version_major": 2,
       "version_minor": 0
      },
      "text/plain": [
       "Evaluating on test set:   0%|          | 0/13 [00:00<?, ?it/s]"
      ]
     },
     "metadata": {},
     "output_type": "display_data"
    },
    {
     "name": "stdout",
     "output_type": "stream",
     "text": [
      "[INFO] Evaluation Completed.\n",
      "\n",
      "=== Metrics for SCS ===\n",
      "Accuracy: 0.9101\n",
      "Classification Report:\n",
      "              precision    recall  f1-score   support\n",
      "\n",
      "         0.0       0.93      0.96      0.94       143\n",
      "         1.0       0.85      0.76      0.80        46\n",
      "\n",
      "    accuracy                           0.91       189\n",
      "   macro avg       0.89      0.86      0.87       189\n",
      "weighted avg       0.91      0.91      0.91       189\n",
      "\n",
      "Confusion Matrix:\n",
      " [[137   6]\n",
      " [ 11  35]] \n",
      "\n"
     ]
    },
    {
     "data": {
      "image/png": "[encoded data removed]",
      "text/plain": [
       "<Figure size 600x600 with 1 Axes>"
      ]
     },
     "metadata": {},
     "output_type": "display_data"
    },
    {
     "name": "stdout",
     "output_type": "stream",
     "text": [
      "=== Metrics for LNfN ===\n",
      "Accuracy: 0.7778\n",
      "Classification Report:\n",
      "              precision    recall  f1-score   support\n",
      "\n",
      "         0.0       0.77      0.91      0.83       115\n",
      "         1.0       0.81      0.57      0.67        74\n",
      "\n",
      "    accuracy                           0.78       189\n",
      "   macro avg       0.79      0.74      0.75       189\n",
      "weighted avg       0.78      0.78      0.77       189\n",
      "\n",
      "Confusion Matrix:\n",
      " [[105  10]\n",
      " [ 32  42]] \n",
      "\n"
     ]
    },
    {
     "data": {
      "image/png": "[encoded data removed]",
      "text/plain": [
       "<Figure size 600x600 with 1 Axes>"
      ]
     },
     "metadata": {},
     "output_type": "display_data"
    },
    {
     "name": "stdout",
     "output_type": "stream",
     "text": [
      "=== Metrics for RNfN ===\n",
      "Accuracy: 0.8148\n",
      "Classification Report:\n",
      "              precision    recall  f1-score   support\n",
      "\n",
      "         0.0       0.81      0.92      0.86       117\n",
      "         1.0       0.84      0.64      0.72        72\n",
      "\n",
      "    accuracy                           0.81       189\n",
      "   macro avg       0.82      0.78      0.79       189\n",
      "weighted avg       0.82      0.81      0.81       189\n",
      "\n",
      "Confusion Matrix:\n",
      " [[108   9]\n",
      " [ 26  46]] \n",
      "\n"
     ]
    },
    {
     "data": {
      "image/png": "[encoded data removed]",
      "text/plain": [
       "<Figure size 600x600 with 1 Axes>"
      ]
     },
     "metadata": {},
     "output_type": "display_data"
    }
   ],
   "source": [
    "import glob\n",
    "\n",
    "# Automatically find the last created folder.\n",
    "model_folders = glob.glob(\"models/*_*_*\")\n",
    "model_folders = sorted(model_folders, key=os.path.getmtime)\n",
    "latest_folder = model_folders[-1] if model_folders else None\n",
    "\n",
    "print(\"Latest model folder:\", latest_folder)\n",
    "\n",
    "# The best model .pth is saved as \"best_model.pth\" inside that folder.\n",
    "model_path = os.path.join(latest_folder, \"best_model.pth\") if latest_folder else None\n",
    "print(\"Model path:\", model_path if model_path and os.path.exists(model_path) else \"No model found.\")\n",
    "\n",
    "if model_path and os.path.exists(model_path):\n",
    "    evaluate_model(model_path=model_path, config_path=CONFIG_PATH, split=\"test\")\n",
    "else:\n",
    "    print(\"[WARNING] No valid model .pth file found. Skipping evaluation.\")"
   ]
  }
 ],
 "metadata": {
  "kernelspec": {
   "display_name": "venv",
   "language": "python",
   "name": "python3"
  },
  "language_info": {
   "codemirror_mode": {
    "name": "ipython",
    "version": 3
   },
   "file_extension": ".py",
   "mimetype": "text/x-python",
   "name": "python",
   "nbconvert_exporter": "python",
   "pygments_lexer": "ipython3",
   "version": "3.12.3"
  }
 },
 "nbformat": 4,
 "nbformat_minor": 2
}
