{
 "cells": [
  {
   "cell_type": "markdown",
   "metadata": {},
   "source": [
    "# 02_model_training_and_evaluation.ipynb\n",
    "\n",
    "**Project**: Lumbar Spine Degenerative Classification  \n",
    "**Description**: This notebook orchestrates the training and evaluation of the deep learning models described in the project.  \n",
    "\n",
    "---\n",
    "\n",
    "## Table of Contents\n",
    "1. [Environment and Imports](#section1)  \n",
    "2. [Configuration Loading](#section2)  \n",
    "3. [Model Training](#section3)  \n",
    "4. [Evaluation](#section4)\n",
    "\n",
    "---"
   ]
  },
  {
   "cell_type": "markdown",
   "metadata": {},
   "source": [
    "<a id=\"section1\"></a>\n",
    "## 1. Environment and Imports\n",
    "\n",
    "Ensures the correct Python environment, updates paths if necessary, and imports relevant modules."
   ]
  },
  {
   "cell_type": "code",
   "execution_count": null,
   "metadata": {},
   "outputs": [],
   "source": [
    "import os\n",
    "import sys\n",
    "import torch\n",
    "import glob\n",
    "\n",
    "if os.path.basename(os.getcwd()) == \"notebooks\":\n",
    "    os.chdir(\"..\")\n",
    "\n",
    "module_path = os.path.abspath(os.path.join(\"src\"))\n",
    "if module_path not in sys.path:\n",
    "    sys.path.append(module_path)\n",
    "\n",
    "from src.model.train_model import train_model\n",
    "from src.evaluate.evaluate_model import evaluate_model\n",
    "from src.data.ingest_data import load_config\n",
    "\n",
    "print(\"Environment diagnostics:\")\n",
    "print(f\"  Working directory : {os.getcwd()}\")\n",
    "print(f\"  Python executable : {sys.executable}\")"
   ]
  },
  {
   "cell_type": "markdown",
   "metadata": {},
   "source": [
    "<a id=\"section2\"></a>\n",
    "## 2. Configuration Loading\n",
    "\n",
    "Retrieves training-related settings (e.g. classification mode, model architecture, etc.) from `config.yml`."
   ]
  },
  {
   "cell_type": "code",
   "execution_count": null,
   "metadata": {},
   "outputs": [],
   "source": [
    "CONFIG_PATH = \"config.yml\"\n",
    "config = load_config(CONFIG_PATH)\n",
    "\n",
    "print(\"Configuration loaded successfully.\")\n",
    "print(\"Project:\", config[\"project\"][\"name\"])\n",
    "print(\"Description:\", config[\"project\"][\"description\"])\n",
    "print(\"Classification Mode:\", config[\"training\"][\"classification_mode\"])\n",
    "print(\"Selected Folder:\", config[\"training\"][\"selected_tensor_folder\"])"
   ]
  },
  {
   "cell_type": "markdown",
   "metadata": {},
   "source": [
    "<a id=\"section3\"></a>\n",
    "## 3. Model Training\n",
    "\n",
    "Calls the `train_model` function from `train_model.py`.  \n",
    "This will:\n",
    "- Load data from CSV\n",
    "- Split into train/val/test sets\n",
    "- Create datasets and dataloaders\n",
    "- Build the selected neural network architecture\n",
    "- Train with early stopping\n",
    "- Save logs and best model in `./models/...`"
   ]
  },
  {
   "cell_type": "code",
   "execution_count": null,
   "metadata": {},
   "outputs": [],
   "source": [
    "train_model(CONFIG_PATH)"
   ]
  },
  {
   "cell_type": "markdown",
   "metadata": {},
   "source": [
    "<a id=\"section4\"></a>\n",
    "## 4. Evaluation\n",
    "\n",
    "The `evaluate_model` function from `evaluate_model.py` allows evaluating on a specified split.\n",
    "By default, it re-splits or tries to load the test set. Then it prints metrics (accuracy, confusion matrix, etc.)"
   ]
  },
  {
   "cell_type": "code",
   "execution_count": null,
   "metadata": {},
   "outputs": [],
   "source": [
    "import glob\n",
    "\n",
    "# Automatically find the last created folder.\n",
    "model_folders = glob.glob(\"models/*_*_*\")\n",
    "model_folders = sorted(model_folders, key=os.path.getmtime)\n",
    "latest_folder = model_folders[-1] if model_folders else None\n",
    "\n",
    "print(\"Latest model folder:\", latest_folder)\n",
    "\n",
    "# The best model .pth is saved as \"best_model.pth\" inside that folder.\n",
    "model_path = os.path.join(latest_folder, \"best_model.pth\") if latest_folder else None\n",
    "print(\"Model path:\", model_path if model_path and os.path.exists(model_path) else \"No model found.\")\n",
    "\n",
    "if model_path and os.path.exists(model_path):\n",
    "    evaluate_model(model_path=model_path, config_path=CONFIG_PATH, split=\"test\")\n",
    "else:\n",
    "    print(\"[WARNING] No valid model .pth file found. Skipping evaluation.\")"
   ]
  }
 ],
 "metadata": {
  "kernelspec": {
   "display_name": "venv",
   "language": "python",
   "name": "python3"
  },
  "language_info": {
   "codemirror_mode": {
    "name": "ipython",
    "version": 3
   },
   "file_extension": ".py",
   "mimetype": "text/x-python",
   "name": "python",
   "nbconvert_exporter": "python",
   "pygments_lexer": "ipython3",
   "version": "3.12.3"
  }
 },
 "nbformat": 4,
 "nbformat_minor": 2
}
