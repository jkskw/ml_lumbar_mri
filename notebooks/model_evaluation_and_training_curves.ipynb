{
 "cells": [
  {
   "cell_type": "markdown",
   "metadata": {},
   "source": [
    "# model_evaluation_and_training_curves.ipynb\n",
    "\n",
    "**Project**: Lumbar Spine Degenerative Classification  \n",
    "**Description**: This notebook loads the training log from a model folder to plot training/validation loss and accuracy curves, and then evaluates the best model saved in `best_model.pth`.\n",
    "\n",
    "---\n",
    "\n",
    "## Table of Contents\n",
    "1. [Environment and Imports](#section1)  \n",
    "2. [Define Model Folder Path](#section2)  \n",
    "3. [Plot Training Curves](#section3)  \n",
    "4. [Evaluate the Best Model](#section4)\n"
   ]
  },
  {
   "cell_type": "markdown",
   "metadata": {},
   "source": [
    "<a id=\"section1\"></a>\n",
    "## 1. Environment and Imports"
   ]
  },
  {
   "cell_type": "code",
   "execution_count": null,
   "metadata": {},
   "outputs": [],
   "source": [
    "import os\n",
    "import sys\n",
    "import pandas as pd\n",
    "import matplotlib.pyplot as plt\n",
    "\n",
    "if os.path.basename(os.getcwd()) == \"notebooks\":\n",
    "    os.chdir(\"..\")\n",
    "\n",
    "print(\"Current working directory:\", os.getcwd())"
   ]
  },
  {
   "cell_type": "markdown",
   "metadata": {},
   "source": [
    "<a id=\"section2\"></a>\n",
    "## 2. Define Model Folder Path"
   ]
  },
  {
   "cell_type": "code",
   "execution_count": null,
   "metadata": {},
   "outputs": [],
   "source": [
    "# Define the model folder path (change this path as necessary)\n",
    "MODEL_FOLDER = \"models/resnet3d_multi_multiclass_full_series_128x128_17D_16_30_0.001_0.2_20250308_163851\"\n",
    "\n",
    "# Check if the folder exists\n",
    "if os.path.exists(MODEL_FOLDER):\n",
    "    print(\"Model folder found:\", MODEL_FOLDER)\n",
    "else:\n",
    "    print(\"Model folder not found. Please verify the path:\", MODEL_FOLDER)\n"
   ]
  },
  {
   "cell_type": "markdown",
   "metadata": {},
   "source": [
    "<a id=\"section3\"></a>\n",
    "## 3. Plot Training Curves\n",
    "- Training and Validation Loss  \n",
    "- Training and Validation Accuracy"
   ]
  },
  {
   "cell_type": "code",
   "execution_count": null,
   "metadata": {},
   "outputs": [],
   "source": [
    "# Define the path to the training_log.csv file\n",
    "log_csv_path = os.path.join(MODEL_FOLDER, \"training_log.csv\")\n",
    "\n",
    "# Load the CSV file\n",
    "df_log = pd.read_csv(log_csv_path)\n",
    "print(\"Training log shape:\", df_log.shape)\n",
    "\n",
    "# Plot Loss\n",
    "plt.figure(figsize=(10, 5))\n",
    "plt.plot(df_log[\"epoch\"], df_log[\"train_loss\"], label=\"Train Loss\")\n",
    "plt.plot(df_log[\"epoch\"], df_log[\"val_loss\"], label=\"Validation Loss\")\n",
    "plt.xlabel(\"Epoch\")\n",
    "plt.ylabel(\"Loss\")\n",
    "plt.title(\"Training and Validation Loss\")\n",
    "plt.legend()\n",
    "plt.grid(True)\n",
    "plt.show()\n",
    "\n",
    "# Plot Accuracy\n",
    "plt.figure(figsize=(10, 5))\n",
    "plt.plot(df_log[\"epoch\"], df_log[\"train_acc\"], label=\"Train Accuracy\")\n",
    "plt.plot(df_log[\"epoch\"], df_log[\"val_acc\"], label=\"Validation Accuracy\")\n",
    "plt.xlabel(\"Epoch\")\n",
    "plt.ylabel(\"Accuracy\")\n",
    "plt.title(\"Training and Validation Accuracy\")\n",
    "plt.legend()\n",
    "plt.grid(True)\n",
    "plt.show()\n"
   ]
  },
  {
   "cell_type": "markdown",
   "metadata": {},
   "source": [
    "<a id=\"section4\"></a>\n",
    "## 4. Evaluate the Best Model"
   ]
  },
  {
   "cell_type": "code",
   "execution_count": null,
   "metadata": {},
   "outputs": [],
   "source": [
    "# Import the evaluate_model function from the evaluation module\n",
    "from src.evaluate.evaluate_model import evaluate_model\n",
    "\n",
    "# Define the path to the best_model.pth file\n",
    "best_model_path = os.path.join(MODEL_FOLDER, \"best_model.pth\")\n",
    "\n",
    "# Check if the best_model.pth file exists\n",
    "if os.path.exists(best_model_path):\n",
    "    print(\"Best model found:\", best_model_path)\n",
    "else:\n",
    "    print(\"Best model file not found at:\", best_model_path)\n",
    "\n",
    "# Evaluate the model.\n",
    "# Make sure that 'config.yml' is in the project root.\n",
    "evaluate_model(model_path=best_model_path, config_path=\"config.yml\", split=\"test\")"
   ]
  }
 ],
 "metadata": {
  "kernelspec": {
   "display_name": "venv",
   "language": "python",
   "name": "python3"
  },
  "language_info": {
   "codemirror_mode": {
    "name": "ipython",
    "version": 3
   },
   "file_extension": ".py",
   "mimetype": "text/x-python",
   "name": "python",
   "nbconvert_exporter": "python",
   "pygments_lexer": "ipython3",
   "version": "3.12.3"
  }
 },
 "nbformat": 4,
 "nbformat_minor": 2
}
